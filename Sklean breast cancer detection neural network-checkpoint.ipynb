{
 "cells": [
  {
   "cell_type": "markdown",
   "id": "6b700284-ba09-4eba-acbe-f8a6caa55b46",
   "metadata": {},
   "source": [
    "# Wisconsin Breast cancer detection using TensorFlow Neural Network model"
   ]
  },
  {
   "cell_type": "code",
   "execution_count": 1,
   "id": "36e20fed-d676-415b-bef4-1a2c89cc98f6",
   "metadata": {},
   "outputs": [],
   "source": [
    "import pandas as pd\n",
    "import numpy as np\n",
    "from sklearn.datasets import load_breast_cancer\n",
    "import seaborn as sns\n",
    "import matplotlib\n",
    "import matplotlib.pylab as plt"
   ]
  },
  {
   "cell_type": "markdown",
   "id": "aac70123-08c6-46a1-a914-84f58c488c9d",
   "metadata": {},
   "source": [
    "## Load the data in the Notebook"
   ]
  },
  {
   "cell_type": "code",
   "execution_count": 2,
   "id": "2a66b64a-5d97-49f1-9dbc-8b2b79ffb8ce",
   "metadata": {},
   "outputs": [
    {
     "name": "stdout",
     "output_type": "stream",
     "text": [
      "dict_keys(['data', 'target', 'frame', 'target_names', 'DESCR', 'feature_names', 'filename', 'data_module'])\n"
     ]
    }
   ],
   "source": [
    "data = load_breast_cancer()\n",
    "print(data.keys()) "
   ]
  },
  {
   "cell_type": "markdown",
   "id": "8e2967a0-9b90-4039-b8f4-94dcbf27c33b",
   "metadata": {},
   "source": [
    "## Load the feature datasets"
   ]
  },
  {
   "cell_type": "code",
   "execution_count": 3,
   "id": "4c58d706-8bd5-49c9-9731-81f024cf90a0",
   "metadata": {},
   "outputs": [
    {
     "data": {
      "text/html": [
       "<div>\n",
       "<style scoped>\n",
       "    .dataframe tbody tr th:only-of-type {\n",
       "        vertical-align: middle;\n",
       "    }\n",
       "\n",
       "    .dataframe tbody tr th {\n",
       "        vertical-align: top;\n",
       "    }\n",
       "\n",
       "    .dataframe thead th {\n",
       "        text-align: right;\n",
       "    }\n",
       "</style>\n",
       "<table border=\"1\" class=\"dataframe\">\n",
       "  <thead>\n",
       "    <tr style=\"text-align: right;\">\n",
       "      <th></th>\n",
       "      <th>mean radius</th>\n",
       "      <th>mean texture</th>\n",
       "      <th>mean perimeter</th>\n",
       "      <th>mean area</th>\n",
       "      <th>mean smoothness</th>\n",
       "      <th>mean compactness</th>\n",
       "      <th>mean concavity</th>\n",
       "      <th>mean concave points</th>\n",
       "      <th>mean symmetry</th>\n",
       "      <th>mean fractal dimension</th>\n",
       "      <th>...</th>\n",
       "      <th>worst texture</th>\n",
       "      <th>worst perimeter</th>\n",
       "      <th>worst area</th>\n",
       "      <th>worst smoothness</th>\n",
       "      <th>worst compactness</th>\n",
       "      <th>worst concavity</th>\n",
       "      <th>worst concave points</th>\n",
       "      <th>worst symmetry</th>\n",
       "      <th>worst fractal dimension</th>\n",
       "      <th>target</th>\n",
       "    </tr>\n",
       "  </thead>\n",
       "  <tbody>\n",
       "    <tr>\n",
       "      <th>0</th>\n",
       "      <td>17.99</td>\n",
       "      <td>10.38</td>\n",
       "      <td>122.80</td>\n",
       "      <td>1001.0</td>\n",
       "      <td>0.11840</td>\n",
       "      <td>0.27760</td>\n",
       "      <td>0.3001</td>\n",
       "      <td>0.14710</td>\n",
       "      <td>0.2419</td>\n",
       "      <td>0.07871</td>\n",
       "      <td>...</td>\n",
       "      <td>17.33</td>\n",
       "      <td>184.60</td>\n",
       "      <td>2019.0</td>\n",
       "      <td>0.1622</td>\n",
       "      <td>0.6656</td>\n",
       "      <td>0.7119</td>\n",
       "      <td>0.2654</td>\n",
       "      <td>0.4601</td>\n",
       "      <td>0.11890</td>\n",
       "      <td>0</td>\n",
       "    </tr>\n",
       "    <tr>\n",
       "      <th>1</th>\n",
       "      <td>20.57</td>\n",
       "      <td>17.77</td>\n",
       "      <td>132.90</td>\n",
       "      <td>1326.0</td>\n",
       "      <td>0.08474</td>\n",
       "      <td>0.07864</td>\n",
       "      <td>0.0869</td>\n",
       "      <td>0.07017</td>\n",
       "      <td>0.1812</td>\n",
       "      <td>0.05667</td>\n",
       "      <td>...</td>\n",
       "      <td>23.41</td>\n",
       "      <td>158.80</td>\n",
       "      <td>1956.0</td>\n",
       "      <td>0.1238</td>\n",
       "      <td>0.1866</td>\n",
       "      <td>0.2416</td>\n",
       "      <td>0.1860</td>\n",
       "      <td>0.2750</td>\n",
       "      <td>0.08902</td>\n",
       "      <td>0</td>\n",
       "    </tr>\n",
       "    <tr>\n",
       "      <th>2</th>\n",
       "      <td>19.69</td>\n",
       "      <td>21.25</td>\n",
       "      <td>130.00</td>\n",
       "      <td>1203.0</td>\n",
       "      <td>0.10960</td>\n",
       "      <td>0.15990</td>\n",
       "      <td>0.1974</td>\n",
       "      <td>0.12790</td>\n",
       "      <td>0.2069</td>\n",
       "      <td>0.05999</td>\n",
       "      <td>...</td>\n",
       "      <td>25.53</td>\n",
       "      <td>152.50</td>\n",
       "      <td>1709.0</td>\n",
       "      <td>0.1444</td>\n",
       "      <td>0.4245</td>\n",
       "      <td>0.4504</td>\n",
       "      <td>0.2430</td>\n",
       "      <td>0.3613</td>\n",
       "      <td>0.08758</td>\n",
       "      <td>0</td>\n",
       "    </tr>\n",
       "    <tr>\n",
       "      <th>3</th>\n",
       "      <td>11.42</td>\n",
       "      <td>20.38</td>\n",
       "      <td>77.58</td>\n",
       "      <td>386.1</td>\n",
       "      <td>0.14250</td>\n",
       "      <td>0.28390</td>\n",
       "      <td>0.2414</td>\n",
       "      <td>0.10520</td>\n",
       "      <td>0.2597</td>\n",
       "      <td>0.09744</td>\n",
       "      <td>...</td>\n",
       "      <td>26.50</td>\n",
       "      <td>98.87</td>\n",
       "      <td>567.7</td>\n",
       "      <td>0.2098</td>\n",
       "      <td>0.8663</td>\n",
       "      <td>0.6869</td>\n",
       "      <td>0.2575</td>\n",
       "      <td>0.6638</td>\n",
       "      <td>0.17300</td>\n",
       "      <td>0</td>\n",
       "    </tr>\n",
       "    <tr>\n",
       "      <th>4</th>\n",
       "      <td>20.29</td>\n",
       "      <td>14.34</td>\n",
       "      <td>135.10</td>\n",
       "      <td>1297.0</td>\n",
       "      <td>0.10030</td>\n",
       "      <td>0.13280</td>\n",
       "      <td>0.1980</td>\n",
       "      <td>0.10430</td>\n",
       "      <td>0.1809</td>\n",
       "      <td>0.05883</td>\n",
       "      <td>...</td>\n",
       "      <td>16.67</td>\n",
       "      <td>152.20</td>\n",
       "      <td>1575.0</td>\n",
       "      <td>0.1374</td>\n",
       "      <td>0.2050</td>\n",
       "      <td>0.4000</td>\n",
       "      <td>0.1625</td>\n",
       "      <td>0.2364</td>\n",
       "      <td>0.07678</td>\n",
       "      <td>0</td>\n",
       "    </tr>\n",
       "  </tbody>\n",
       "</table>\n",
       "<p>5 rows × 31 columns</p>\n",
       "</div>"
      ],
      "text/plain": [
       "   mean radius  mean texture  mean perimeter  mean area  mean smoothness  \\\n",
       "0        17.99         10.38          122.80     1001.0          0.11840   \n",
       "1        20.57         17.77          132.90     1326.0          0.08474   \n",
       "2        19.69         21.25          130.00     1203.0          0.10960   \n",
       "3        11.42         20.38           77.58      386.1          0.14250   \n",
       "4        20.29         14.34          135.10     1297.0          0.10030   \n",
       "\n",
       "   mean compactness  mean concavity  mean concave points  mean symmetry  \\\n",
       "0           0.27760          0.3001              0.14710         0.2419   \n",
       "1           0.07864          0.0869              0.07017         0.1812   \n",
       "2           0.15990          0.1974              0.12790         0.2069   \n",
       "3           0.28390          0.2414              0.10520         0.2597   \n",
       "4           0.13280          0.1980              0.10430         0.1809   \n",
       "\n",
       "   mean fractal dimension  ...  worst texture  worst perimeter  worst area  \\\n",
       "0                 0.07871  ...          17.33           184.60      2019.0   \n",
       "1                 0.05667  ...          23.41           158.80      1956.0   \n",
       "2                 0.05999  ...          25.53           152.50      1709.0   \n",
       "3                 0.09744  ...          26.50            98.87       567.7   \n",
       "4                 0.05883  ...          16.67           152.20      1575.0   \n",
       "\n",
       "   worst smoothness  worst compactness  worst concavity  worst concave points  \\\n",
       "0            0.1622             0.6656           0.7119                0.2654   \n",
       "1            0.1238             0.1866           0.2416                0.1860   \n",
       "2            0.1444             0.4245           0.4504                0.2430   \n",
       "3            0.2098             0.8663           0.6869                0.2575   \n",
       "4            0.1374             0.2050           0.4000                0.1625   \n",
       "\n",
       "   worst symmetry  worst fractal dimension  target  \n",
       "0          0.4601                  0.11890       0  \n",
       "1          0.2750                  0.08902       0  \n",
       "2          0.3613                  0.08758       0  \n",
       "3          0.6638                  0.17300       0  \n",
       "4          0.2364                  0.07678       0  \n",
       "\n",
       "[5 rows x 31 columns]"
      ]
     },
     "execution_count": 3,
     "metadata": {},
     "output_type": "execute_result"
    }
   ],
   "source": [
    "df = pd.DataFrame(data.data, columns=data.feature_names)\n",
    "df['target'] = data.target\n",
    "df.head()"
   ]
  },
  {
   "cell_type": "code",
   "execution_count": 4,
   "id": "4a5afaee-d339-4d1c-89b3-3ba9b18a4336",
   "metadata": {},
   "outputs": [
    {
     "data": {
      "text/html": [
       "<div>\n",
       "<style scoped>\n",
       "    .dataframe tbody tr th:only-of-type {\n",
       "        vertical-align: middle;\n",
       "    }\n",
       "\n",
       "    .dataframe tbody tr th {\n",
       "        vertical-align: top;\n",
       "    }\n",
       "\n",
       "    .dataframe thead th {\n",
       "        text-align: right;\n",
       "    }\n",
       "</style>\n",
       "<table border=\"1\" class=\"dataframe\">\n",
       "  <thead>\n",
       "    <tr style=\"text-align: right;\">\n",
       "      <th></th>\n",
       "      <th>mean radius</th>\n",
       "      <th>mean texture</th>\n",
       "      <th>mean perimeter</th>\n",
       "      <th>mean area</th>\n",
       "      <th>mean smoothness</th>\n",
       "      <th>mean compactness</th>\n",
       "      <th>mean concavity</th>\n",
       "      <th>mean concave points</th>\n",
       "      <th>mean symmetry</th>\n",
       "      <th>mean fractal dimension</th>\n",
       "      <th>...</th>\n",
       "      <th>worst texture</th>\n",
       "      <th>worst perimeter</th>\n",
       "      <th>worst area</th>\n",
       "      <th>worst smoothness</th>\n",
       "      <th>worst compactness</th>\n",
       "      <th>worst concavity</th>\n",
       "      <th>worst concave points</th>\n",
       "      <th>worst symmetry</th>\n",
       "      <th>worst fractal dimension</th>\n",
       "      <th>target</th>\n",
       "    </tr>\n",
       "  </thead>\n",
       "  <tbody>\n",
       "    <tr>\n",
       "      <th>count</th>\n",
       "      <td>569.000000</td>\n",
       "      <td>569.000000</td>\n",
       "      <td>569.000000</td>\n",
       "      <td>569.000000</td>\n",
       "      <td>569.000000</td>\n",
       "      <td>569.000000</td>\n",
       "      <td>569.000000</td>\n",
       "      <td>569.000000</td>\n",
       "      <td>569.000000</td>\n",
       "      <td>569.000000</td>\n",
       "      <td>...</td>\n",
       "      <td>569.000000</td>\n",
       "      <td>569.000000</td>\n",
       "      <td>569.000000</td>\n",
       "      <td>569.000000</td>\n",
       "      <td>569.000000</td>\n",
       "      <td>569.000000</td>\n",
       "      <td>569.000000</td>\n",
       "      <td>569.000000</td>\n",
       "      <td>569.000000</td>\n",
       "      <td>569.000000</td>\n",
       "    </tr>\n",
       "    <tr>\n",
       "      <th>mean</th>\n",
       "      <td>14.127292</td>\n",
       "      <td>19.289649</td>\n",
       "      <td>91.969033</td>\n",
       "      <td>654.889104</td>\n",
       "      <td>0.096360</td>\n",
       "      <td>0.104341</td>\n",
       "      <td>0.088799</td>\n",
       "      <td>0.048919</td>\n",
       "      <td>0.181162</td>\n",
       "      <td>0.062798</td>\n",
       "      <td>...</td>\n",
       "      <td>25.677223</td>\n",
       "      <td>107.261213</td>\n",
       "      <td>880.583128</td>\n",
       "      <td>0.132369</td>\n",
       "      <td>0.254265</td>\n",
       "      <td>0.272188</td>\n",
       "      <td>0.114606</td>\n",
       "      <td>0.290076</td>\n",
       "      <td>0.083946</td>\n",
       "      <td>0.627417</td>\n",
       "    </tr>\n",
       "    <tr>\n",
       "      <th>std</th>\n",
       "      <td>3.524049</td>\n",
       "      <td>4.301036</td>\n",
       "      <td>24.298981</td>\n",
       "      <td>351.914129</td>\n",
       "      <td>0.014064</td>\n",
       "      <td>0.052813</td>\n",
       "      <td>0.079720</td>\n",
       "      <td>0.038803</td>\n",
       "      <td>0.027414</td>\n",
       "      <td>0.007060</td>\n",
       "      <td>...</td>\n",
       "      <td>6.146258</td>\n",
       "      <td>33.602542</td>\n",
       "      <td>569.356993</td>\n",
       "      <td>0.022832</td>\n",
       "      <td>0.157336</td>\n",
       "      <td>0.208624</td>\n",
       "      <td>0.065732</td>\n",
       "      <td>0.061867</td>\n",
       "      <td>0.018061</td>\n",
       "      <td>0.483918</td>\n",
       "    </tr>\n",
       "    <tr>\n",
       "      <th>min</th>\n",
       "      <td>6.981000</td>\n",
       "      <td>9.710000</td>\n",
       "      <td>43.790000</td>\n",
       "      <td>143.500000</td>\n",
       "      <td>0.052630</td>\n",
       "      <td>0.019380</td>\n",
       "      <td>0.000000</td>\n",
       "      <td>0.000000</td>\n",
       "      <td>0.106000</td>\n",
       "      <td>0.049960</td>\n",
       "      <td>...</td>\n",
       "      <td>12.020000</td>\n",
       "      <td>50.410000</td>\n",
       "      <td>185.200000</td>\n",
       "      <td>0.071170</td>\n",
       "      <td>0.027290</td>\n",
       "      <td>0.000000</td>\n",
       "      <td>0.000000</td>\n",
       "      <td>0.156500</td>\n",
       "      <td>0.055040</td>\n",
       "      <td>0.000000</td>\n",
       "    </tr>\n",
       "    <tr>\n",
       "      <th>25%</th>\n",
       "      <td>11.700000</td>\n",
       "      <td>16.170000</td>\n",
       "      <td>75.170000</td>\n",
       "      <td>420.300000</td>\n",
       "      <td>0.086370</td>\n",
       "      <td>0.064920</td>\n",
       "      <td>0.029560</td>\n",
       "      <td>0.020310</td>\n",
       "      <td>0.161900</td>\n",
       "      <td>0.057700</td>\n",
       "      <td>...</td>\n",
       "      <td>21.080000</td>\n",
       "      <td>84.110000</td>\n",
       "      <td>515.300000</td>\n",
       "      <td>0.116600</td>\n",
       "      <td>0.147200</td>\n",
       "      <td>0.114500</td>\n",
       "      <td>0.064930</td>\n",
       "      <td>0.250400</td>\n",
       "      <td>0.071460</td>\n",
       "      <td>0.000000</td>\n",
       "    </tr>\n",
       "    <tr>\n",
       "      <th>50%</th>\n",
       "      <td>13.370000</td>\n",
       "      <td>18.840000</td>\n",
       "      <td>86.240000</td>\n",
       "      <td>551.100000</td>\n",
       "      <td>0.095870</td>\n",
       "      <td>0.092630</td>\n",
       "      <td>0.061540</td>\n",
       "      <td>0.033500</td>\n",
       "      <td>0.179200</td>\n",
       "      <td>0.061540</td>\n",
       "      <td>...</td>\n",
       "      <td>25.410000</td>\n",
       "      <td>97.660000</td>\n",
       "      <td>686.500000</td>\n",
       "      <td>0.131300</td>\n",
       "      <td>0.211900</td>\n",
       "      <td>0.226700</td>\n",
       "      <td>0.099930</td>\n",
       "      <td>0.282200</td>\n",
       "      <td>0.080040</td>\n",
       "      <td>1.000000</td>\n",
       "    </tr>\n",
       "    <tr>\n",
       "      <th>75%</th>\n",
       "      <td>15.780000</td>\n",
       "      <td>21.800000</td>\n",
       "      <td>104.100000</td>\n",
       "      <td>782.700000</td>\n",
       "      <td>0.105300</td>\n",
       "      <td>0.130400</td>\n",
       "      <td>0.130700</td>\n",
       "      <td>0.074000</td>\n",
       "      <td>0.195700</td>\n",
       "      <td>0.066120</td>\n",
       "      <td>...</td>\n",
       "      <td>29.720000</td>\n",
       "      <td>125.400000</td>\n",
       "      <td>1084.000000</td>\n",
       "      <td>0.146000</td>\n",
       "      <td>0.339100</td>\n",
       "      <td>0.382900</td>\n",
       "      <td>0.161400</td>\n",
       "      <td>0.317900</td>\n",
       "      <td>0.092080</td>\n",
       "      <td>1.000000</td>\n",
       "    </tr>\n",
       "    <tr>\n",
       "      <th>max</th>\n",
       "      <td>28.110000</td>\n",
       "      <td>39.280000</td>\n",
       "      <td>188.500000</td>\n",
       "      <td>2501.000000</td>\n",
       "      <td>0.163400</td>\n",
       "      <td>0.345400</td>\n",
       "      <td>0.426800</td>\n",
       "      <td>0.201200</td>\n",
       "      <td>0.304000</td>\n",
       "      <td>0.097440</td>\n",
       "      <td>...</td>\n",
       "      <td>49.540000</td>\n",
       "      <td>251.200000</td>\n",
       "      <td>4254.000000</td>\n",
       "      <td>0.222600</td>\n",
       "      <td>1.058000</td>\n",
       "      <td>1.252000</td>\n",
       "      <td>0.291000</td>\n",
       "      <td>0.663800</td>\n",
       "      <td>0.207500</td>\n",
       "      <td>1.000000</td>\n",
       "    </tr>\n",
       "  </tbody>\n",
       "</table>\n",
       "<p>8 rows × 31 columns</p>\n",
       "</div>"
      ],
      "text/plain": [
       "       mean radius  mean texture  mean perimeter    mean area  \\\n",
       "count   569.000000    569.000000      569.000000   569.000000   \n",
       "mean     14.127292     19.289649       91.969033   654.889104   \n",
       "std       3.524049      4.301036       24.298981   351.914129   \n",
       "min       6.981000      9.710000       43.790000   143.500000   \n",
       "25%      11.700000     16.170000       75.170000   420.300000   \n",
       "50%      13.370000     18.840000       86.240000   551.100000   \n",
       "75%      15.780000     21.800000      104.100000   782.700000   \n",
       "max      28.110000     39.280000      188.500000  2501.000000   \n",
       "\n",
       "       mean smoothness  mean compactness  mean concavity  mean concave points  \\\n",
       "count       569.000000        569.000000      569.000000           569.000000   \n",
       "mean          0.096360          0.104341        0.088799             0.048919   \n",
       "std           0.014064          0.052813        0.079720             0.038803   \n",
       "min           0.052630          0.019380        0.000000             0.000000   \n",
       "25%           0.086370          0.064920        0.029560             0.020310   \n",
       "50%           0.095870          0.092630        0.061540             0.033500   \n",
       "75%           0.105300          0.130400        0.130700             0.074000   \n",
       "max           0.163400          0.345400        0.426800             0.201200   \n",
       "\n",
       "       mean symmetry  mean fractal dimension  ...  worst texture  \\\n",
       "count     569.000000              569.000000  ...     569.000000   \n",
       "mean        0.181162                0.062798  ...      25.677223   \n",
       "std         0.027414                0.007060  ...       6.146258   \n",
       "min         0.106000                0.049960  ...      12.020000   \n",
       "25%         0.161900                0.057700  ...      21.080000   \n",
       "50%         0.179200                0.061540  ...      25.410000   \n",
       "75%         0.195700                0.066120  ...      29.720000   \n",
       "max         0.304000                0.097440  ...      49.540000   \n",
       "\n",
       "       worst perimeter   worst area  worst smoothness  worst compactness  \\\n",
       "count       569.000000   569.000000        569.000000         569.000000   \n",
       "mean        107.261213   880.583128          0.132369           0.254265   \n",
       "std          33.602542   569.356993          0.022832           0.157336   \n",
       "min          50.410000   185.200000          0.071170           0.027290   \n",
       "25%          84.110000   515.300000          0.116600           0.147200   \n",
       "50%          97.660000   686.500000          0.131300           0.211900   \n",
       "75%         125.400000  1084.000000          0.146000           0.339100   \n",
       "max         251.200000  4254.000000          0.222600           1.058000   \n",
       "\n",
       "       worst concavity  worst concave points  worst symmetry  \\\n",
       "count       569.000000            569.000000      569.000000   \n",
       "mean          0.272188              0.114606        0.290076   \n",
       "std           0.208624              0.065732        0.061867   \n",
       "min           0.000000              0.000000        0.156500   \n",
       "25%           0.114500              0.064930        0.250400   \n",
       "50%           0.226700              0.099930        0.282200   \n",
       "75%           0.382900              0.161400        0.317900   \n",
       "max           1.252000              0.291000        0.663800   \n",
       "\n",
       "       worst fractal dimension      target  \n",
       "count               569.000000  569.000000  \n",
       "mean                  0.083946    0.627417  \n",
       "std                   0.018061    0.483918  \n",
       "min                   0.055040    0.000000  \n",
       "25%                   0.071460    0.000000  \n",
       "50%                   0.080040    1.000000  \n",
       "75%                   0.092080    1.000000  \n",
       "max                   0.207500    1.000000  \n",
       "\n",
       "[8 rows x 31 columns]"
      ]
     },
     "execution_count": 4,
     "metadata": {},
     "output_type": "execute_result"
    }
   ],
   "source": [
    "df.describe()"
   ]
  },
  {
   "cell_type": "code",
   "execution_count": 5,
   "id": "5e5c6b1a-60b0-4153-b6e5-f6b93da6e34b",
   "metadata": {},
   "outputs": [
    {
     "name": "stdout",
     "output_type": "stream",
     "text": [
      "<class 'pandas.core.frame.DataFrame'>\n",
      "RangeIndex: 569 entries, 0 to 568\n",
      "Data columns (total 31 columns):\n",
      " #   Column                   Non-Null Count  Dtype  \n",
      "---  ------                   --------------  -----  \n",
      " 0   mean radius              569 non-null    float64\n",
      " 1   mean texture             569 non-null    float64\n",
      " 2   mean perimeter           569 non-null    float64\n",
      " 3   mean area                569 non-null    float64\n",
      " 4   mean smoothness          569 non-null    float64\n",
      " 5   mean compactness         569 non-null    float64\n",
      " 6   mean concavity           569 non-null    float64\n",
      " 7   mean concave points      569 non-null    float64\n",
      " 8   mean symmetry            569 non-null    float64\n",
      " 9   mean fractal dimension   569 non-null    float64\n",
      " 10  radius error             569 non-null    float64\n",
      " 11  texture error            569 non-null    float64\n",
      " 12  perimeter error          569 non-null    float64\n",
      " 13  area error               569 non-null    float64\n",
      " 14  smoothness error         569 non-null    float64\n",
      " 15  compactness error        569 non-null    float64\n",
      " 16  concavity error          569 non-null    float64\n",
      " 17  concave points error     569 non-null    float64\n",
      " 18  symmetry error           569 non-null    float64\n",
      " 19  fractal dimension error  569 non-null    float64\n",
      " 20  worst radius             569 non-null    float64\n",
      " 21  worst texture            569 non-null    float64\n",
      " 22  worst perimeter          569 non-null    float64\n",
      " 23  worst area               569 non-null    float64\n",
      " 24  worst smoothness         569 non-null    float64\n",
      " 25  worst compactness        569 non-null    float64\n",
      " 26  worst concavity          569 non-null    float64\n",
      " 27  worst concave points     569 non-null    float64\n",
      " 28  worst symmetry           569 non-null    float64\n",
      " 29  worst fractal dimension  569 non-null    float64\n",
      " 30  target                   569 non-null    int32  \n",
      "dtypes: float64(30), int32(1)\n",
      "memory usage: 135.7 KB\n"
     ]
    }
   ],
   "source": [
    "df.info()"
   ]
  },
  {
   "cell_type": "markdown",
   "id": "773f390c-25b9-489e-afb3-5eade75469c1",
   "metadata": {},
   "source": [
    "## Check for null values"
   ]
  },
  {
   "cell_type": "code",
   "execution_count": 6,
   "id": "91fc07f5-3de5-46f2-9cc7-eab138d6384b",
   "metadata": {},
   "outputs": [
    {
     "name": "stdout",
     "output_type": "stream",
     "text": [
      "There are no missing values in the dataset\n"
     ]
    }
   ],
   "source": [
    "null_values = df.isnull().values.any()\n",
    "if null_values == True:\n",
    "    print(\"There are some missing values in data\")\n",
    "else:\n",
    "    print(\"There are no missing values in the dataset\")"
   ]
  },
  {
   "cell_type": "markdown",
   "id": "160d0881-fe63-4087-b57c-5a83eb6a9a96",
   "metadata": {},
   "source": [
    "## Principal Component Analysis(PCA)"
   ]
  },
  {
   "cell_type": "code",
   "execution_count": 7,
   "id": "52b0558e-b345-4dcd-b914-59895acc7ce7",
   "metadata": {},
   "outputs": [],
   "source": [
    "from sklearn.preprocessing import StandardScaler\n",
    "from sklearn.decomposition import PCA"
   ]
  },
  {
   "cell_type": "code",
   "execution_count": 8,
   "id": "60ca99f5-9bf0-4cb5-83a2-543b020b6c1e",
   "metadata": {},
   "outputs": [
    {
     "name": "stdout",
     "output_type": "stream",
     "text": [
      "Projecting the 30-dimensional data to 2D\n"
     ]
    },
    {
     "data": {
      "text/plain": [
       "Text(0.5, 1.0, 'PCA projection of Breast Cancer Dataset')"
      ]
     },
     "execution_count": 8,
     "metadata": {},
     "output_type": "execute_result"
    },
    {
     "data": {
      "image/png": "[encoded data removed]",
      "text/plain": [
       "<Figure size 500x300 with 1 Axes>"
      ]
     },
     "metadata": {},
     "output_type": "display_data"
    }
   ],
   "source": [
    "X = df.drop(['target'], axis=1) #features\n",
    "y = df['target']\n",
    "X_scaled = StandardScaler().fit_transform(X)\n",
    "pca = PCA(n_components=2)\n",
    "X_pca_scaled = pca.fit_transform(X_scaled)\n",
    "print('Projecting the 30-dimensional data to 2D')\n",
    "plt.figure(figsize=(5,3))\n",
    "plt.scatter(X_pca_scaled[:, 0], X_pca_scaled[:, 1], c=df['target'], alpha=0.7, s=30, cmap = 'seismic')\n",
    "plt.xlabel('PCA Component 1')\n",
    "plt.ylabel('PCA Component 2')\n",
    "plt.title('PCA projection of Breast Cancer Dataset')"
   ]
  },
  {
   "cell_type": "code",
   "execution_count": 9,
   "id": "e282df2a-4fdf-4b4e-bcbf-916492456c2d",
   "metadata": {},
   "outputs": [
    {
     "data": {
      "text/plain": [
       "array([[1.799e+01, 1.038e+01, 1.228e+02, ..., 2.654e-01, 4.601e-01,\n",
       "        1.189e-01],\n",
       "       [2.057e+01, 1.777e+01, 1.329e+02, ..., 1.860e-01, 2.750e-01,\n",
       "        8.902e-02],\n",
       "       [1.969e+01, 2.125e+01, 1.300e+02, ..., 2.430e-01, 3.613e-01,\n",
       "        8.758e-02],\n",
       "       ...,\n",
       "       [1.660e+01, 2.808e+01, 1.083e+02, ..., 1.418e-01, 2.218e-01,\n",
       "        7.820e-02],\n",
       "       [2.060e+01, 2.933e+01, 1.401e+02, ..., 2.650e-01, 4.087e-01,\n",
       "        1.240e-01],\n",
       "       [7.760e+00, 2.454e+01, 4.792e+01, ..., 0.000e+00, 2.871e-01,\n",
       "        7.039e-02]])"
      ]
     },
     "execution_count": 9,
     "metadata": {},
     "output_type": "execute_result"
    }
   ],
   "source": [
    "x = X.values\n",
    "x"
   ]
  },
  {
   "cell_type": "code",
   "execution_count": 10,
   "id": "83ba5d64-39e0-4c60-8e55-21a8b83f21bb",
   "metadata": {},
   "outputs": [
    {
     "data": {
      "text/plain": [
       "(569, 1)"
      ]
     },
     "execution_count": 10,
     "metadata": {},
     "output_type": "execute_result"
    }
   ],
   "source": [
    "Y = y.values.reshape((569,1))\n",
    "Y.shape"
   ]
  },
  {
   "cell_type": "markdown",
   "id": "ef25a880-393a-4939-85bd-fb0bb42a259d",
   "metadata": {},
   "source": [
    "## Train-Cross Validation-Test split of data"
   ]
  },
  {
   "cell_type": "code",
   "execution_count": 11,
   "id": "7220c92f-cd7b-47b9-bffb-43ece364a511",
   "metadata": {},
   "outputs": [],
   "source": [
    "from sklearn.model_selection import train_test_split\n",
    "x_train, x_, y_train, y_ = train_test_split(x, Y, test_size=0.4, random_state=1)\n",
    "\n",
    "x_cv, x_test, y_cv , y_test = train_test_split(x_, y_, test_size=0.5, random_state=1)\n",
    "\n",
    "del x_,y_ #delete the temporary variables"
   ]
  },
  {
   "cell_type": "markdown",
   "id": "6c198c59-b9be-4b19-993d-8e6f9db56edd",
   "metadata": {},
   "source": [
    "## Normalization of train, test, cv set w.r.t training set"
   ]
  },
  {
   "cell_type": "code",
   "execution_count": 12,
   "id": "d727a1dc-1573-414d-9b64-62e1adedb539",
   "metadata": {},
   "outputs": [],
   "source": [
    "scaled = StandardScaler()\n",
    "x_train_sc = scaled.fit_transform(x_train)"
   ]
  },
  {
   "cell_type": "code",
   "execution_count": 13,
   "id": "887aaf02-0949-46f1-97f1-13e7fca9b8a8",
   "metadata": {},
   "outputs": [],
   "source": [
    "x_cv_sc = scaled.transform(x_cv)\n",
    "x_test_sc = scaled.transform(x_test)"
   ]
  },
  {
   "cell_type": "markdown",
   "id": "886d034a-0d93-42e1-9147-eda18b835481",
   "metadata": {},
   "source": [
    "## TensorFlow Neural network for binary classification"
   ]
  },
  {
   "cell_type": "code",
   "execution_count": 14,
   "id": "48dd384f-8df9-4676-bcc4-3a6653977cbb",
   "metadata": {},
   "outputs": [],
   "source": [
    "import tensorflow as tf\n",
    "from tensorflow.keras.models import Sequential\n",
    "from tensorflow.keras.layers import Dense"
   ]
  },
  {
   "cell_type": "markdown",
   "id": "cada69c6-0fa4-4fe5-9451-5dd50233026c",
   "metadata": {},
   "source": [
    "### Build the model"
   ]
  },
  {
   "cell_type": "code",
   "execution_count": 17,
   "id": "8a184ad3-36fc-4b97-b3d9-3d014a0ba76b",
   "metadata": {},
   "outputs": [],
   "source": [
    "my_model = Sequential(\n",
    "                   [Dense(25, activation='relu', name='L1'),\n",
    "                    Dense(15, activation='relu', name='L2'),\n",
    "                    Dense(1, activation='linear', name='L3')\n",
    "                   ], name= 'model_1'\n",
    "                  )"
   ]
  },
  {
   "cell_type": "markdown",
   "id": "c879f863-f2d8-430e-b4a1-ffb6d11b25ae",
   "metadata": {},
   "source": [
    "### Compile and train the model"
   ]
  },
  {
   "cell_type": "code",
   "execution_count": 18,
   "id": "d06ac22d-09f7-44d8-a600-7949c52c2dd9",
   "metadata": {},
   "outputs": [],
   "source": [
    "my_model.compile(\n",
    "    loss=tf.keras.losses.BinaryCrossentropy(from_logits=True),\n",
    "    optimizer=tf.keras.optimizers.Adam(learning_rate=0.01),\n",
    "    )"
   ]
  },
  {
   "cell_type": "code",
   "execution_count": 19,
   "id": "fe5cf99c-5442-46ba-958a-5abc14b7d550",
   "metadata": {},
   "outputs": [
    {
     "name": "stdout",
     "output_type": "stream",
     "text": [
      "Epoch 1/200\n",
      "11/11 [==============================] - 1s 2ms/step - loss: 0.4186\n",
      "Epoch 2/200\n",
      "11/11 [==============================] - 0s 2ms/step - loss: 0.1284\n",
      "Epoch 3/200\n",
      "11/11 [==============================] - 0s 2ms/step - loss: 0.0701\n",
      "Epoch 4/200\n",
      "11/11 [==============================] - 0s 2ms/step - loss: 0.0630\n",
      "Epoch 5/200\n",
      "11/11 [==============================] - 0s 2ms/step - loss: 0.0483\n",
      "Epoch 6/200\n",
      "11/11 [==============================] - 0s 2ms/step - loss: 0.0429\n",
      "Epoch 7/200\n",
      "11/11 [==============================] - 0s 2ms/step - loss: 0.0359\n",
      "Epoch 8/200\n",
      "11/11 [==============================] - 0s 2ms/step - loss: 0.0313\n",
      "Epoch 9/200\n",
      "11/11 [==============================] - 0s 2ms/step - loss: 0.0215\n",
      "Epoch 10/200\n",
      "11/11 [==============================] - 0s 2ms/step - loss: 0.0202\n",
      "Epoch 11/200\n",
      "11/11 [==============================] - 0s 2ms/step - loss: 0.0152\n",
      "Epoch 12/200\n",
      "11/11 [==============================] - 0s 2ms/step - loss: 0.0117\n",
      "Epoch 13/200\n",
      "11/11 [==============================] - 0s 2ms/step - loss: 0.0094\n",
      "Epoch 14/200\n",
      "11/11 [==============================] - 0s 2ms/step - loss: 0.0081\n",
      "Epoch 15/200\n",
      "11/11 [==============================] - 0s 2ms/step - loss: 0.0062\n",
      "Epoch 16/200\n",
      "11/11 [==============================] - 0s 2ms/step - loss: 0.0047\n",
      "Epoch 17/200\n",
      "11/11 [==============================] - 0s 2ms/step - loss: 0.0037\n",
      "Epoch 18/200\n",
      "11/11 [==============================] - 0s 2ms/step - loss: 0.0027\n",
      "Epoch 19/200\n",
      "11/11 [==============================] - 0s 2ms/step - loss: 0.0021\n",
      "Epoch 20/200\n",
      "11/11 [==============================] - 0s 2ms/step - loss: 0.0018\n",
      "Epoch 21/200\n",
      "11/11 [==============================] - 0s 2ms/step - loss: 0.0015\n",
      "Epoch 22/200\n",
      "11/11 [==============================] - 0s 2ms/step - loss: 0.0013\n",
      "Epoch 23/200\n",
      "11/11 [==============================] - 0s 3ms/step - loss: 0.0011\n",
      "Epoch 24/200\n",
      "11/11 [==============================] - 0s 2ms/step - loss: 9.9022e-04\n",
      "Epoch 25/200\n",
      "11/11 [==============================] - 0s 2ms/step - loss: 8.2489e-04\n",
      "Epoch 26/200\n",
      "11/11 [==============================] - 0s 2ms/step - loss: 7.7945e-04\n",
      "Epoch 27/200\n",
      "11/11 [==============================] - 0s 2ms/step - loss: 6.5772e-04\n",
      "Epoch 28/200\n",
      "11/11 [==============================] - 0s 2ms/step - loss: 6.4866e-04\n",
      "Epoch 29/200\n",
      "11/11 [==============================] - 0s 2ms/step - loss: 5.7980e-04\n",
      "Epoch 30/200\n",
      "11/11 [==============================] - 0s 2ms/step - loss: 5.0027e-04\n",
      "Epoch 31/200\n",
      "11/11 [==============================] - 0s 2ms/step - loss: 4.6328e-04\n",
      "Epoch 32/200\n",
      "11/11 [==============================] - 0s 2ms/step - loss: 4.1717e-04\n",
      "Epoch 33/200\n",
      "11/11 [==============================] - 0s 2ms/step - loss: 3.7870e-04\n",
      "Epoch 34/200\n",
      "11/11 [==============================] - 0s 3ms/step - loss: 3.4847e-04\n",
      "Epoch 35/200\n",
      "11/11 [==============================] - 0s 2ms/step - loss: 3.2459e-04\n",
      "Epoch 36/200\n",
      "11/11 [==============================] - 0s 2ms/step - loss: 3.0267e-04\n",
      "Epoch 37/200\n",
      "11/11 [==============================] - 0s 2ms/step - loss: 2.8069e-04\n",
      "Epoch 38/200\n",
      "11/11 [==============================] - 0s 2ms/step - loss: 2.6346e-04\n",
      "Epoch 39/200\n",
      "11/11 [==============================] - 0s 2ms/step - loss: 2.4899e-04\n",
      "Epoch 40/200\n",
      "11/11 [==============================] - 0s 2ms/step - loss: 2.3070e-04\n",
      "Epoch 41/200\n",
      "11/11 [==============================] - 0s 2ms/step - loss: 2.3262e-04\n",
      "Epoch 42/200\n",
      "11/11 [==============================] - 0s 2ms/step - loss: 2.0350e-04\n",
      "Epoch 43/200\n",
      "11/11 [==============================] - 0s 2ms/step - loss: 1.9558e-04\n",
      "Epoch 44/200\n",
      "11/11 [==============================] - 0s 2ms/step - loss: 1.8810e-04\n",
      "Epoch 45/200\n",
      "11/11 [==============================] - 0s 2ms/step - loss: 1.9683e-04\n",
      "Epoch 46/200\n",
      "11/11 [==============================] - 0s 2ms/step - loss: 1.6544e-04\n",
      "Epoch 47/200\n",
      "11/11 [==============================] - 0s 2ms/step - loss: 1.6785e-04\n",
      "Epoch 48/200\n",
      "11/11 [==============================] - 0s 2ms/step - loss: 1.5102e-04\n",
      "Epoch 49/200\n",
      "11/11 [==============================] - 0s 4ms/step - loss: 1.5590e-04\n",
      "Epoch 50/200\n",
      "11/11 [==============================] - 0s 2ms/step - loss: 1.3935e-04\n",
      "Epoch 51/200\n",
      "11/11 [==============================] - 0s 1ms/step - loss: 1.3145e-04\n",
      "Epoch 52/200\n",
      "11/11 [==============================] - 0s 2ms/step - loss: 1.2430e-04\n",
      "Epoch 53/200\n",
      "11/11 [==============================] - 0s 2ms/step - loss: 1.2062e-04\n",
      "Epoch 54/200\n",
      "11/11 [==============================] - 0s 2ms/step - loss: 1.1453e-04\n",
      "Epoch 55/200\n",
      "11/11 [==============================] - 0s 2ms/step - loss: 1.1112e-04\n",
      "Epoch 56/200\n",
      "11/11 [==============================] - 0s 2ms/step - loss: 1.0610e-04\n",
      "Epoch 57/200\n",
      "11/11 [==============================] - 0s 2ms/step - loss: 1.0204e-04\n",
      "Epoch 58/200\n",
      "11/11 [==============================] - 0s 2ms/step - loss: 9.8482e-05\n",
      "Epoch 59/200\n",
      "11/11 [==============================] - 0s 2ms/step - loss: 9.5797e-05\n",
      "Epoch 60/200\n",
      "11/11 [==============================] - 0s 2ms/step - loss: 9.3067e-05\n",
      "Epoch 61/200\n",
      "11/11 [==============================] - 0s 2ms/step - loss: 9.0295e-05\n",
      "Epoch 62/200\n",
      "11/11 [==============================] - 0s 2ms/step - loss: 8.3810e-05\n",
      "Epoch 63/200\n",
      "11/11 [==============================] - 0s 1ms/step - loss: 8.3167e-05\n",
      "Epoch 64/200\n",
      "11/11 [==============================] - 0s 2ms/step - loss: 7.9099e-05\n",
      "Epoch 65/200\n",
      "11/11 [==============================] - 0s 2ms/step - loss: 7.5875e-05\n",
      "Epoch 66/200\n",
      "11/11 [==============================] - 0s 1ms/step - loss: 7.3491e-05\n",
      "Epoch 67/200\n",
      "11/11 [==============================] - 0s 2ms/step - loss: 7.3075e-05\n",
      "Epoch 68/200\n",
      "11/11 [==============================] - 0s 2ms/step - loss: 6.9159e-05\n",
      "Epoch 69/200\n",
      "11/11 [==============================] - 0s 2ms/step - loss: 6.7121e-05\n",
      "Epoch 70/200\n",
      "11/11 [==============================] - 0s 1ms/step - loss: 6.4477e-05\n",
      "Epoch 71/200\n",
      "11/11 [==============================] - 0s 2ms/step - loss: 6.3591e-05\n",
      "Epoch 72/200\n",
      "11/11 [==============================] - 0s 2ms/step - loss: 6.1631e-05\n",
      "Epoch 73/200\n",
      "11/11 [==============================] - 0s 2ms/step - loss: 5.9524e-05\n",
      "Epoch 74/200\n",
      "11/11 [==============================] - 0s 2ms/step - loss: 5.7377e-05\n",
      "Epoch 75/200\n",
      "11/11 [==============================] - 0s 2ms/step - loss: 5.6075e-05\n",
      "Epoch 76/200\n",
      "11/11 [==============================] - 0s 2ms/step - loss: 5.3857e-05\n",
      "Epoch 77/200\n",
      "11/11 [==============================] - 0s 2ms/step - loss: 5.3836e-05\n",
      "Epoch 78/200\n",
      "11/11 [==============================] - 0s 2ms/step - loss: 5.2286e-05\n",
      "Epoch 79/200\n",
      "11/11 [==============================] - 0s 2ms/step - loss: 5.0549e-05\n",
      "Epoch 80/200\n",
      "11/11 [==============================] - 0s 2ms/step - loss: 4.8468e-05\n",
      "Epoch 81/200\n",
      "11/11 [==============================] - 0s 2ms/step - loss: 4.8217e-05\n",
      "Epoch 82/200\n",
      "11/11 [==============================] - 0s 2ms/step - loss: 4.6076e-05\n",
      "Epoch 83/200\n",
      "11/11 [==============================] - 0s 2ms/step - loss: 4.5204e-05\n",
      "Epoch 84/200\n",
      "11/11 [==============================] - 0s 5ms/step - loss: 4.5119e-05\n",
      "Epoch 85/200\n",
      "11/11 [==============================] - 0s 3ms/step - loss: 4.2686e-05\n",
      "Epoch 86/200\n",
      "11/11 [==============================] - 0s 2ms/step - loss: 4.1963e-05\n",
      "Epoch 87/200\n",
      "11/11 [==============================] - 0s 2ms/step - loss: 4.1820e-05\n",
      "Epoch 88/200\n",
      "11/11 [==============================] - 0s 2ms/step - loss: 3.9353e-05\n",
      "Epoch 89/200\n",
      "11/11 [==============================] - 0s 2ms/step - loss: 3.8752e-05\n",
      "Epoch 90/200\n",
      "11/11 [==============================] - 0s 2ms/step - loss: 3.7817e-05\n",
      "Epoch 91/200\n",
      "11/11 [==============================] - 0s 2ms/step - loss: 3.6786e-05\n",
      "Epoch 92/200\n",
      "11/11 [==============================] - 0s 2ms/step - loss: 3.6140e-05\n",
      "Epoch 93/200\n",
      "11/11 [==============================] - 0s 2ms/step - loss: 3.5145e-05\n",
      "Epoch 94/200\n",
      "11/11 [==============================] - 0s 2ms/step - loss: 3.4228e-05\n",
      "Epoch 95/200\n",
      "11/11 [==============================] - 0s 2ms/step - loss: 3.3346e-05\n",
      "Epoch 96/200\n",
      "11/11 [==============================] - 0s 2ms/step - loss: 3.2740e-05\n",
      "Epoch 97/200\n",
      "11/11 [==============================] - 0s 3ms/step - loss: 3.2463e-05\n",
      "Epoch 98/200\n",
      "11/11 [==============================] - 0s 2ms/step - loss: 3.2036e-05\n",
      "Epoch 99/200\n",
      "11/11 [==============================] - 0s 2ms/step - loss: 3.0805e-05\n",
      "Epoch 100/200\n",
      "11/11 [==============================] - 0s 2ms/step - loss: 3.0028e-05\n",
      "Epoch 101/200\n",
      "11/11 [==============================] - 0s 2ms/step - loss: 2.9633e-05\n",
      "Epoch 102/200\n",
      "11/11 [==============================] - 0s 3ms/step - loss: 2.8811e-05\n",
      "Epoch 103/200\n",
      "11/11 [==============================] - 0s 2ms/step - loss: 2.8303e-05\n",
      "Epoch 104/200\n",
      "11/11 [==============================] - 0s 2ms/step - loss: 2.7932e-05\n",
      "Epoch 105/200\n",
      "11/11 [==============================] - 0s 2ms/step - loss: 2.7323e-05\n",
      "Epoch 106/200\n",
      "11/11 [==============================] - 0s 2ms/step - loss: 2.6601e-05\n",
      "Epoch 107/200\n",
      "11/11 [==============================] - 0s 1ms/step - loss: 2.5952e-05\n",
      "Epoch 108/200\n",
      "11/11 [==============================] - 0s 2ms/step - loss: 2.5340e-05\n",
      "Epoch 109/200\n",
      "11/11 [==============================] - 0s 2ms/step - loss: 2.4767e-05\n",
      "Epoch 110/200\n",
      "11/11 [==============================] - 0s 2ms/step - loss: 2.4396e-05\n",
      "Epoch 111/200\n",
      "11/11 [==============================] - 0s 2ms/step - loss: 2.3793e-05\n",
      "Epoch 112/200\n",
      "11/11 [==============================] - 0s 4ms/step - loss: 2.3470e-05\n",
      "Epoch 113/200\n",
      "11/11 [==============================] - 0s 2ms/step - loss: 2.2898e-05\n",
      "Epoch 114/200\n",
      "11/11 [==============================] - 0s 2ms/step - loss: 2.2544e-05\n",
      "Epoch 115/200\n",
      "11/11 [==============================] - 0s 2ms/step - loss: 2.2071e-05\n",
      "Epoch 116/200\n",
      "11/11 [==============================] - 0s 2ms/step - loss: 2.1642e-05\n",
      "Epoch 117/200\n",
      "11/11 [==============================] - 0s 2ms/step - loss: 2.1472e-05\n",
      "Epoch 118/200\n",
      "11/11 [==============================] - 0s 2ms/step - loss: 2.0794e-05\n",
      "Epoch 119/200\n",
      "11/11 [==============================] - 0s 2ms/step - loss: 2.0636e-05\n",
      "Epoch 120/200\n",
      "11/11 [==============================] - 0s 2ms/step - loss: 2.0232e-05\n",
      "Epoch 121/200\n",
      "11/11 [==============================] - 0s 2ms/step - loss: 1.9753e-05\n",
      "Epoch 122/200\n",
      "11/11 [==============================] - 0s 2ms/step - loss: 1.9506e-05\n",
      "Epoch 123/200\n",
      "11/11 [==============================] - 0s 1ms/step - loss: 1.9205e-05\n",
      "Epoch 124/200\n",
      "11/11 [==============================] - 0s 2ms/step - loss: 1.8760e-05\n",
      "Epoch 125/200\n",
      "11/11 [==============================] - 0s 2ms/step - loss: 1.8497e-05\n",
      "Epoch 126/200\n",
      "11/11 [==============================] - 0s 1ms/step - loss: 1.8110e-05\n",
      "Epoch 127/200\n",
      "11/11 [==============================] - 0s 2ms/step - loss: 1.7793e-05\n",
      "Epoch 128/200\n",
      "11/11 [==============================] - 0s 2ms/step - loss: 1.7493e-05\n",
      "Epoch 129/200\n",
      "11/11 [==============================] - 0s 2ms/step - loss: 1.7284e-05\n",
      "Epoch 130/200\n",
      "11/11 [==============================] - 0s 2ms/step - loss: 1.7056e-05\n",
      "Epoch 131/200\n",
      "11/11 [==============================] - 0s 2ms/step - loss: 1.6738e-05\n",
      "Epoch 132/200\n",
      "11/11 [==============================] - 0s 2ms/step - loss: 1.6475e-05\n",
      "Epoch 133/200\n",
      "11/11 [==============================] - 0s 2ms/step - loss: 1.6163e-05\n",
      "Epoch 134/200\n",
      "11/11 [==============================] - 0s 2ms/step - loss: 1.5950e-05\n",
      "Epoch 135/200\n",
      "11/11 [==============================] - 0s 2ms/step - loss: 1.5548e-05\n",
      "Epoch 136/200\n",
      "11/11 [==============================] - 0s 2ms/step - loss: 1.5483e-05\n",
      "Epoch 137/200\n",
      "11/11 [==============================] - 0s 2ms/step - loss: 1.5098e-05\n",
      "Epoch 138/200\n",
      "11/11 [==============================] - 0s 4ms/step - loss: 1.5120e-05\n",
      "Epoch 139/200\n",
      "11/11 [==============================] - 0s 2ms/step - loss: 1.4560e-05\n",
      "Epoch 140/200\n",
      "11/11 [==============================] - 0s 2ms/step - loss: 1.4504e-05\n",
      "Epoch 141/200\n",
      "11/11 [==============================] - 0s 2ms/step - loss: 1.4344e-05\n",
      "Epoch 142/200\n",
      "11/11 [==============================] - 0s 2ms/step - loss: 1.4342e-05\n",
      "Epoch 143/200\n",
      "11/11 [==============================] - 0s 2ms/step - loss: 1.3928e-05\n",
      "Epoch 144/200\n",
      "11/11 [==============================] - 0s 2ms/step - loss: 1.3803e-05\n",
      "Epoch 145/200\n",
      "11/11 [==============================] - 0s 2ms/step - loss: 1.3379e-05\n",
      "Epoch 146/200\n",
      "11/11 [==============================] - 0s 2ms/step - loss: 1.3196e-05\n",
      "Epoch 147/200\n",
      "11/11 [==============================] - 0s 2ms/step - loss: 1.2955e-05\n",
      "Epoch 148/200\n",
      "11/11 [==============================] - 0s 2ms/step - loss: 1.2760e-05\n",
      "Epoch 149/200\n",
      "11/11 [==============================] - 0s 2ms/step - loss: 1.2599e-05\n",
      "Epoch 150/200\n",
      "11/11 [==============================] - 0s 1ms/step - loss: 1.2378e-05\n",
      "Epoch 151/200\n",
      "11/11 [==============================] - 0s 2ms/step - loss: 1.2199e-05\n",
      "Epoch 152/200\n",
      "11/11 [==============================] - 0s 2ms/step - loss: 1.1997e-05\n",
      "Epoch 153/200\n",
      "11/11 [==============================] - 0s 2ms/step - loss: 1.1834e-05\n",
      "Epoch 154/200\n",
      "11/11 [==============================] - 0s 2ms/step - loss: 1.1678e-05\n",
      "Epoch 155/200\n",
      "11/11 [==============================] - 0s 2ms/step - loss: 1.1489e-05\n",
      "Epoch 156/200\n",
      "11/11 [==============================] - 0s 2ms/step - loss: 1.1336e-05\n",
      "Epoch 157/200\n",
      "11/11 [==============================] - 0s 2ms/step - loss: 1.1209e-05\n",
      "Epoch 158/200\n",
      "11/11 [==============================] - 0s 2ms/step - loss: 1.0986e-05\n",
      "Epoch 159/200\n",
      "11/11 [==============================] - 0s 1ms/step - loss: 1.0927e-05\n",
      "Epoch 160/200\n",
      "11/11 [==============================] - 0s 2ms/step - loss: 1.0883e-05\n",
      "Epoch 161/200\n",
      "11/11 [==============================] - 0s 2ms/step - loss: 1.0611e-05\n",
      "Epoch 162/200\n",
      "11/11 [==============================] - 0s 2ms/step - loss: 1.0460e-05\n",
      "Epoch 163/200\n",
      "11/11 [==============================] - 0s 5ms/step - loss: 1.0336e-05\n",
      "Epoch 164/200\n",
      "11/11 [==============================] - 0s 2ms/step - loss: 1.0110e-05\n",
      "Epoch 165/200\n",
      "11/11 [==============================] - 0s 2ms/step - loss: 1.0195e-05\n",
      "Epoch 166/200\n",
      "11/11 [==============================] - 0s 2ms/step - loss: 9.9904e-06\n",
      "Epoch 167/200\n",
      "11/11 [==============================] - 0s 2ms/step - loss: 9.7110e-06\n",
      "Epoch 168/200\n",
      "11/11 [==============================] - 0s 2ms/step - loss: 9.6720e-06\n",
      "Epoch 169/200\n",
      "11/11 [==============================] - 0s 1ms/step - loss: 9.4862e-06\n",
      "Epoch 170/200\n",
      "11/11 [==============================] - 0s 2ms/step - loss: 9.3461e-06\n",
      "Epoch 171/200\n",
      "11/11 [==============================] - 0s 1ms/step - loss: 9.2591e-06\n",
      "Epoch 172/200\n",
      "11/11 [==============================] - 0s 2ms/step - loss: 9.1085e-06\n",
      "Epoch 173/200\n",
      "11/11 [==============================] - 0s 2ms/step - loss: 9.0016e-06\n",
      "Epoch 174/200\n",
      "11/11 [==============================] - 0s 2ms/step - loss: 8.8856e-06\n",
      "Epoch 175/200\n",
      "11/11 [==============================] - 0s 1ms/step - loss: 8.7600e-06\n",
      "Epoch 176/200\n",
      "11/11 [==============================] - 0s 2ms/step - loss: 8.7000e-06\n",
      "Epoch 177/200\n",
      "11/11 [==============================] - 0s 2ms/step - loss: 8.5473e-06\n",
      "Epoch 178/200\n",
      "11/11 [==============================] - 0s 2ms/step - loss: 8.4576e-06\n",
      "Epoch 179/200\n",
      "11/11 [==============================] - 0s 2ms/step - loss: 8.3359e-06\n",
      "Epoch 180/200\n",
      "11/11 [==============================] - 0s 2ms/step - loss: 8.2999e-06\n",
      "Epoch 181/200\n",
      "11/11 [==============================] - 0s 2ms/step - loss: 8.1742e-06\n",
      "Epoch 182/200\n",
      "11/11 [==============================] - 0s 5ms/step - loss: 8.0350e-06\n",
      "Epoch 183/200\n",
      "11/11 [==============================] - 0s 2ms/step - loss: 7.9147e-06\n",
      "Epoch 184/200\n",
      "11/11 [==============================] - 0s 2ms/step - loss: 7.8204e-06\n",
      "Epoch 185/200\n",
      "11/11 [==============================] - 0s 2ms/step - loss: 7.7673e-06\n",
      "Epoch 186/200\n",
      "11/11 [==============================] - 0s 3ms/step - loss: 7.6416e-06\n",
      "Epoch 187/200\n",
      "11/11 [==============================] - 0s 2ms/step - loss: 7.5578e-06\n",
      "Epoch 188/200\n",
      "11/11 [==============================] - 0s 2ms/step - loss: 7.4328e-06\n",
      "Epoch 189/200\n",
      "11/11 [==============================] - 0s 2ms/step - loss: 7.3753e-06\n",
      "Epoch 190/200\n",
      "11/11 [==============================] - 0s 2ms/step - loss: 7.2778e-06\n",
      "Epoch 191/200\n",
      "11/11 [==============================] - 0s 2ms/step - loss: 7.1990e-06\n",
      "Epoch 192/200\n",
      "11/11 [==============================] - 0s 2ms/step - loss: 7.1561e-06\n",
      "Epoch 193/200\n",
      "11/11 [==============================] - 0s 2ms/step - loss: 7.0346e-06\n",
      "Epoch 194/200\n",
      "11/11 [==============================] - 0s 2ms/step - loss: 6.9670e-06\n",
      "Epoch 195/200\n",
      "11/11 [==============================] - 0s 2ms/step - loss: 6.8662e-06\n",
      "Epoch 196/200\n",
      "11/11 [==============================] - 0s 2ms/step - loss: 6.7881e-06\n",
      "Epoch 197/200\n",
      "11/11 [==============================] - 0s 2ms/step - loss: 6.6914e-06\n",
      "Epoch 198/200\n",
      "11/11 [==============================] - 0s 2ms/step - loss: 6.6141e-06\n",
      "Epoch 199/200\n",
      "11/11 [==============================] - 0s 5ms/step - loss: 6.5744e-06\n",
      "Epoch 200/200\n",
      "11/11 [==============================] - 0s 2ms/step - loss: 6.4727e-06\n"
     ]
    },
    {
     "data": {
      "text/plain": [
       "<keras.callbacks.History at 0x241b8dae970>"
      ]
     },
     "execution_count": 19,
     "metadata": {},
     "output_type": "execute_result"
    }
   ],
   "source": [
    "my_model.fit(x_train_sc, y_train, epochs=200)"
   ]
  },
  {
   "cell_type": "markdown",
   "id": "366a8c34-6f5a-47a0-986b-5509b5280ae4",
   "metadata": {},
   "source": [
    "### Save the Model"
   ]
  },
  {
   "cell_type": "code",
   "execution_count": 20,
   "id": "c8a8fba4-5ac1-409c-a434-c484d6693fb6",
   "metadata": {},
   "outputs": [
    {
     "name": "stderr",
     "output_type": "stream",
     "text": [
      "WARNING:absl:Function `_wrapped_model` contains input name(s) L1_input with unsupported characters which will be renamed to l1_input in the SavedModel.\n"
     ]
    },
    {
     "name": "stdout",
     "output_type": "stream",
     "text": [
      "INFO:tensorflow:Assets written to: Created_models/Breast_cancer_tf_NN_model\\assets\n"
     ]
    },
    {
     "name": "stderr",
     "output_type": "stream",
     "text": [
      "INFO:tensorflow:Assets written to: Created_models/Breast_cancer_tf_NN_model\\assets\n"
     ]
    }
   ],
   "source": [
    "my_model.save('Created_models/Breast_cancer_tf_NN_model')"
   ]
  },
  {
   "cell_type": "markdown",
   "id": "6ec5cdbc-98f8-4d0c-bd64-76d6b04f6ee6",
   "metadata": {},
   "source": [
    "## Load the saved Model"
   ]
  },
  {
   "cell_type": "code",
   "execution_count": 21,
   "id": "80d4c719-3e0f-4435-93fc-af0b6daa4eff",
   "metadata": {},
   "outputs": [
    {
     "name": "stdout",
     "output_type": "stream",
     "text": [
      "Model: \"model_1\"\n",
      "_________________________________________________________________\n",
      " Layer (type)                Output Shape              Param #   \n",
      "=================================================================\n",
      " L1 (Dense)                  (None, 25)                775       \n",
      "                                                                 \n",
      " L2 (Dense)                  (None, 15)                390       \n",
      "                                                                 \n",
      " L3 (Dense)                  (None, 1)                 16        \n",
      "                                                                 \n",
      "=================================================================\n",
      "Total params: 1,181\n",
      "Trainable params: 1,181\n",
      "Non-trainable params: 0\n",
      "_________________________________________________________________\n"
     ]
    }
   ],
   "source": [
    "my_model = tf.keras.models.load_model('Created_models/Breast_cancer_tf_NN_model')\n",
    "my_model.summary()"
   ]
  },
  {
   "cell_type": "markdown",
   "id": "ace14acc-51a6-417a-8fd2-cb080daf3095",
   "metadata": {},
   "source": [
    "## Predictions on Train, Cross Validation and Test data using the trained model"
   ]
  },
  {
   "cell_type": "markdown",
   "id": "0f1c989c-05b3-44c1-a3d4-78f2f43ccbc1",
   "metadata": {},
   "source": [
    "### Prediction on training set"
   ]
  },
  {
   "cell_type": "code",
   "execution_count": 22,
   "id": "834b36ac-f51e-4a61-aa6c-a629796381c7",
   "metadata": {},
   "outputs": [
    {
     "name": "stdout",
     "output_type": "stream",
     "text": [
      "11/11 [==============================] - 0s 2ms/step\n"
     ]
    },
    {
     "data": {
      "text/plain": [
       "(341,)"
      ]
     },
     "execution_count": 22,
     "metadata": {},
     "output_type": "execute_result"
    }
   ],
   "source": [
    "pred_train = my_model.predict(x_train_sc)\n",
    "pred_train = np.where(pred_train>0.5, 1, 0).reshape(341)\n",
    "pred_train.shape\n"
   ]
  },
  {
   "cell_type": "markdown",
   "id": "5794cd73-682d-41e3-a127-c3e2ff6b3f7d",
   "metadata": {},
   "source": [
    "### Prediction on cross validation set"
   ]
  },
  {
   "cell_type": "code",
   "execution_count": 23,
   "id": "30cb3d0d-e555-443f-a730-c3a984b7d33c",
   "metadata": {},
   "outputs": [
    {
     "name": "stdout",
     "output_type": "stream",
     "text": [
      "4/4 [==============================] - 0s 2ms/step\n"
     ]
    },
    {
     "data": {
      "text/plain": [
       "(114,)"
      ]
     },
     "execution_count": 23,
     "metadata": {},
     "output_type": "execute_result"
    }
   ],
   "source": [
    "pred_cv = my_model.predict(x_cv_sc)\n",
    "pred_cv = np.where(pred_cv>0.5, 1, 0).reshape(114)\n",
    "pred_cv.shape"
   ]
  },
  {
   "cell_type": "markdown",
   "id": "ccecd443-9755-4067-8921-8498fd48807c",
   "metadata": {},
   "source": [
    "### Prediction on test set"
   ]
  },
  {
   "cell_type": "code",
   "execution_count": 24,
   "id": "eb3dd158-8755-49bc-8e83-9be0aa93e823",
   "metadata": {},
   "outputs": [
    {
     "name": "stdout",
     "output_type": "stream",
     "text": [
      "4/4 [==============================] - 0s 0s/step\n"
     ]
    },
    {
     "data": {
      "text/plain": [
       "(114,)"
      ]
     },
     "execution_count": 24,
     "metadata": {},
     "output_type": "execute_result"
    }
   ],
   "source": [
    "pred_test = my_model.predict(x_test_sc)\n",
    "pred_test = np.where(pred_test>0.5, 1, 0).reshape(114)\n",
    "pred_test.shape"
   ]
  },
  {
   "cell_type": "markdown",
   "id": "65c4c330-1510-4b94-8f8a-dfd8d044704d",
   "metadata": {},
   "source": [
    "## Confusion matrix"
   ]
  },
  {
   "cell_type": "code",
   "execution_count": 25,
   "id": "ac4b0205-9fca-4199-94ce-cb359f72740f",
   "metadata": {},
   "outputs": [],
   "source": [
    "from sklearn.metrics import confusion_matrix\n",
    "\n",
    "cm_train = confusion_matrix(y_train, pred_train)\n",
    "cm_cv = confusion_matrix(y_cv, pred_cv)\n",
    "cm_test = confusion_matrix(y_test, pred_test)"
   ]
  },
  {
   "cell_type": "code",
   "execution_count": 26,
   "id": "67d54eaa-5b3a-463a-a1ed-ef6187ad9ee7",
   "metadata": {},
   "outputs": [
    {
     "name": "stdout",
     "output_type": "stream",
     "text": [
      "Confusion matrix for train set:\n",
      "[[132   0]\n",
      " [  0 209]]\n",
      "Accuracy of model on training set:\n",
      "100.0 %\n"
     ]
    }
   ],
   "source": [
    "print('Confusion matrix for train set:')\n",
    "print(cm_train)\n",
    "print('Accuracy of model on training set:')\n",
    "print(((cm_train[0][0]+cm_train[1][1])/cm_train.sum())*100, '%')"
   ]
  },
  {
   "cell_type": "code",
   "execution_count": 27,
   "id": "8ba85ee4-db61-46e7-84a7-291199d45ec5",
   "metadata": {},
   "outputs": [
    {
     "name": "stdout",
     "output_type": "stream",
     "text": [
      "Confusion matrix for cross validation set:\n",
      "[[45  1]\n",
      " [ 6 62]]\n",
      "Accuracy of model on cross validation set:\n",
      "93.85964912280701 %\n"
     ]
    }
   ],
   "source": [
    "print('Confusion matrix for cross validation set:')\n",
    "print(cm_cv)\n",
    "print('Accuracy of model on cross validation set:')\n",
    "print(((cm_cv[0][0]+cm_cv[1][1])/cm_cv.sum())*100, '%')"
   ]
  },
  {
   "cell_type": "code",
   "execution_count": 28,
   "id": "6494931d-b999-47be-b621-7f22c034f1b1",
   "metadata": {},
   "outputs": [
    {
     "name": "stdout",
     "output_type": "stream",
     "text": [
      "Confusion matrix for test set:\n",
      "[[32  2]\n",
      " [ 3 77]]\n",
      "Accuracy of model on test set:\n",
      "95.6140350877193 %\n"
     ]
    }
   ],
   "source": [
    "print('Confusion matrix for test set:')\n",
    "print(cm_test)\n",
    "print('Accuracy of model on test set:')\n",
    "print(((cm_test[0][0]+cm_test[1][1])/cm_test.sum())*100, '%')"
   ]
  },
  {
   "cell_type": "code",
   "execution_count": null,
   "id": "ba064ff7-6758-42d9-8097-e18445cdd2e0",
   "metadata": {},
   "outputs": [],
   "source": []
  },
  {
   "cell_type": "code",
   "execution_count": null,
   "id": "6fa86c01-35f3-4121-b105-717c82f8572d",
   "metadata": {},
   "outputs": [],
   "source": []
  }
 ],
 "metadata": {
  "kernelspec": {
   "display_name": "Python 3 (ipykernel)",
   "language": "python",
   "name": "python3"
  },
  "language_info": {
   "codemirror_mode": {
    "name": "ipython",
    "version": 3
   },
   "file_extension": ".py",
   "mimetype": "text/x-python",
   "name": "python",
   "nbconvert_exporter": "python",
   "pygments_lexer": "ipython3",
   "version": "3.9.18"
  }
 },
 "nbformat": 4,
 "nbformat_minor": 5
}
